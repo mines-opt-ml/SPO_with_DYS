{
 "cells": [
  {
   "cell_type": "markdown",
   "metadata": {},
   "source": [
    "## Introduction\n",
    "Testing the approach described in [this](https://arxiv.org/abs/1912.02175/) paper"
   ]
  },
  {
   "cell_type": "code",
   "execution_count": 4,
   "metadata": {},
   "outputs": [],
   "source": [
    "import torch\n",
    "import torch.nn as nn\n",
    "import matplotlib.pyplot as plt\n",
    "import time as time\n",
    "import blackbox_backprop as bb\n",
    "\n",
    "import torch.optim as optim\n",
    "from torch.optim.lr_scheduler import ReduceLROnPlateau\n",
    "from torch.utils.data import Dataset, TensorDataset, DataLoader\n",
    "import time as time"
   ]
  },
  {
   "cell_type": "code",
   "execution_count": 5,
   "metadata": {},
   "outputs": [],
   "source": [
    "class bb_net(nn.Module):\n",
    "    '''\n",
    "    This net is equipped to run an m-by-m grid graphs. No A matrix is necessary.\n",
    "    '''\n",
    "    def __init__(self, m, context_size, device='cpu'):\n",
    "        super().__init__()\n",
    "        self.m = m\n",
    "        self.device = device\n",
    "        self.hidden_dim = 2*context_size\n",
    "        # self.shortestPath = bb.ShortestPath()\n",
    "\n",
    "        ## Standard layers\n",
    "        self.fc_1 = nn.Linear(context_size, self.hidden_dim)\n",
    "        self.fc_2 = nn.Linear(self.hidden_dim, self.m**2)\n",
    "        self.leaky_relu = nn.LeakyReLU(0.1)\n",
    "        \n",
    "    def forward(self, d):\n",
    "        w = self.leaky_relu(self.fc_1(d))\n",
    "        w = self.fc_2(w)\n",
    "        suggested_weights = w.view(w.shape[0], self.m, self.m)\n",
    "        suggested_shortest_paths = bb.ShortestPath.apply(suggested_weights, 5.0)\n",
    "        \n",
    "        return suggested_shortest_paths"
   ]
  },
  {
   "cell_type": "code",
   "execution_count": 11,
   "metadata": {},
   "outputs": [],
   "source": [
    "BB_net = bb_net(5, 5)"
   ]
  },
  {
   "cell_type": "code",
   "execution_count": 12,
   "metadata": {},
   "outputs": [],
   "source": [
    "## Load data\n",
    "grid_size = 5\n",
    "data_path = './shortest_path_data/Shortest_Path_training_data'+str(grid_size)+'.pth'\n",
    "state = torch.load(data_path)\n",
    "\n",
    "## Extract data from state\n",
    "train_dataset_e = state['train_dataset_e']\n",
    "test_dataset_e = state['test_dataset_e']\n",
    "train_dataset_v = state['train_dataset_v']\n",
    "test_dataset_v = state['test_dataset_v']\n",
    "m = state[\"m\"]\n",
    "A = state[\"A\"].float()\n",
    "b = state[\"b\"].float()\n",
    "WW = state[\"WW\"].float()\n",
    "num_edges = state[\"num_edges\"]\n",
    "Edge_list = state[\"Edge_list\"]\n",
    "Edge_list_torch = torch.tensor(Edge_list)"
   ]
  },
  {
   "cell_type": "code",
   "execution_count": 13,
   "metadata": {},
   "outputs": [],
   "source": [
    "## Training setup\n",
    "train_dataset = train_dataset_v\n",
    "test_dataset = test_dataset_v\n",
    "net = BB_net\n",
    "learning_rate = 1e-3\n",
    "\n",
    "test_size = 200\n",
    "train_loader = DataLoader(dataset=train_dataset, batch_size=100,\n",
    "                              shuffle=True)\n",
    "test_loader = DataLoader(dataset=test_dataset, batch_size=test_size,\n",
    "                             shuffle=False)\n",
    "\n",
    "optimizer = optim.SGD(net.parameters(), lr=learning_rate)\n",
    "scheduler = ReduceLROnPlateau(optimizer, 'min')\n",
    "criterion = nn.MSELoss()\n",
    "\n",
    "## Initialize arrays that will be returned.\n",
    "test_loss_hist= []\n",
    "test_acc_hist = []\n",
    "train_time = [0]\n",
    "train_loss_ave = 0\n",
    "max_time = 3600"
   ]
  },
  {
   "cell_type": "code",
   "execution_count": 14,
   "metadata": {},
   "outputs": [],
   "source": [
    "class HammingLoss(torch.nn.Module):\n",
    "    def forward(self, suggested, target):\n",
    "        errors = suggested * (1.0 - target) + (1.0 - suggested) * target\n",
    "        return errors.mean(dim=0).sum()\n",
    "        # return (torch.mean(suggested*(1.0-target)) + torch.mean((1.0-suggested)*target)) * 25.0\n"
   ]
  },
  {
   "cell_type": "code",
   "execution_count": 15,
   "metadata": {},
   "outputs": [],
   "source": [
    "# This is the lost function used in the original paper. We can try it, but it doesn't seem to \n",
    "# perform significantly better then nn.MSE\n",
    "# criterion = HammingLoss()"
   ]
  },
  {
   "cell_type": "code",
   "execution_count": 16,
   "metadata": {},
   "outputs": [
    {
     "name": "stdout",
     "output_type": "stream",
     "text": [
      "epoch: 0 , test_loss =  7.539999961853027\n",
      "epoch: 1 , test_loss =  7.169999599456787\n",
      "epoch: 2 , test_loss =  7.039999961853027\n",
      "epoch: 3 , test_loss =  6.979999542236328\n",
      "epoch: 4 , test_loss =  6.920000076293945\n",
      "epoch: 5 , test_loss =  6.899999618530273\n",
      "epoch: 6 , test_loss =  6.899999618530273\n",
      "epoch: 7 , test_loss =  6.880000114440918\n",
      "epoch: 8 , test_loss =  6.869999885559082\n",
      "epoch: 9 , test_loss =  6.869999885559082\n",
      "epoch: 10 , test_loss =  6.869999885559082\n",
      "epoch: 11 , test_loss =  6.869999885559082\n",
      "epoch: 12 , test_loss =  6.869999885559082\n",
      "epoch: 13 , test_loss =  6.869999885559082\n",
      "epoch: 14 , test_loss =  6.859999656677246\n",
      "epoch: 15 , test_loss =  6.859999656677246\n",
      "epoch: 16 , test_loss =  6.859999656677246\n",
      "epoch: 17 , test_loss =  6.84999942779541\n",
      "epoch: 18 , test_loss =  6.84999942779541\n",
      "epoch: 19 , test_loss =  6.84999942779541\n",
      "epoch: 20 , test_loss =  6.84999942779541\n",
      "epoch: 21 , test_loss =  6.84999942779541\n",
      "epoch: 22 , test_loss =  6.84999942779541\n",
      "epoch: 23 , test_loss =  6.84999942779541\n",
      "epoch: 24 , test_loss =  6.84999942779541\n",
      "epoch: 25 , test_loss =  6.84999942779541\n",
      "epoch: 26 , test_loss =  6.84999942779541\n",
      "epoch: 27 , test_loss =  6.84999942779541\n",
      "epoch: 28 , test_loss =  6.84999942779541\n",
      "epoch: 29 , test_loss =  6.84999942779541\n",
      "epoch: 30 , test_loss =  6.84999942779541\n",
      "epoch: 31 , test_loss =  6.84999942779541\n",
      "epoch: 32 , test_loss =  6.84999942779541\n",
      "epoch: 33 , test_loss =  6.84999942779541\n",
      "epoch: 34 , test_loss =  6.84999942779541\n",
      "epoch: 35 , test_loss =  6.84999942779541\n",
      "epoch: 36 , test_loss =  6.84999942779541\n",
      "epoch: 37 , test_loss =  6.84999942779541\n",
      "epoch: 38 , test_loss =  6.84999942779541\n",
      "epoch: 39 , test_loss =  6.84999942779541\n",
      "epoch: 40 , test_loss =  6.84999942779541\n",
      "epoch: 41 , test_loss =  6.84999942779541\n",
      "epoch: 42 , test_loss =  6.84999942779541\n",
      "epoch: 43 , test_loss =  6.84999942779541\n",
      "epoch: 44 , test_loss =  6.84999942779541\n",
      "epoch: 45 , test_loss =  6.84999942779541\n",
      "epoch: 46 , test_loss =  6.84999942779541\n",
      "epoch: 47 , test_loss =  6.84999942779541\n",
      "epoch: 48 , test_loss =  6.84999942779541\n",
      "epoch: 49 , test_loss =  6.84999942779541\n",
      "epoch: 50 , test_loss =  6.84999942779541\n",
      "epoch: 51 , test_loss =  6.84999942779541\n",
      "epoch: 52 , test_loss =  6.84999942779541\n",
      "epoch: 53 , test_loss =  6.84999942779541\n",
      "epoch: 54 , test_loss =  6.84999942779541\n",
      "epoch: 55 , test_loss =  6.84999942779541\n"
     ]
    },
    {
     "ename": "KeyboardInterrupt",
     "evalue": "",
     "output_type": "error",
     "traceback": [
      "\u001b[0;31m---------------------------------------------------------------------------\u001b[0m",
      "\u001b[0;31mKeyboardInterrupt\u001b[0m                         Traceback (most recent call last)",
      "\u001b[0;32m<ipython-input-16-50a8df77cd72>\u001b[0m in \u001b[0;36m<module>\u001b[0;34m\u001b[0m\n\u001b[1;32m     11\u001b[0m             \u001b[0mpath_batch\u001b[0m \u001b[0;34m=\u001b[0m\u001b[0mpath_batch\u001b[0m\u001b[0;34m.\u001b[0m\u001b[0mto\u001b[0m\u001b[0;34m(\u001b[0m\u001b[0mdevice\u001b[0m\u001b[0;34m)\u001b[0m\u001b[0;34m\u001b[0m\u001b[0;34m\u001b[0m\u001b[0m\n\u001b[1;32m     12\u001b[0m             \u001b[0moptimizer\u001b[0m\u001b[0;34m.\u001b[0m\u001b[0mzero_grad\u001b[0m\u001b[0;34m(\u001b[0m\u001b[0;34m)\u001b[0m\u001b[0;34m\u001b[0m\u001b[0;34m\u001b[0m\u001b[0m\n\u001b[0;32m---> 13\u001b[0;31m             \u001b[0msuggested_shortest_paths\u001b[0m \u001b[0;34m=\u001b[0m \u001b[0mnet\u001b[0m\u001b[0;34m(\u001b[0m\u001b[0md_batch\u001b[0m\u001b[0;34m)\u001b[0m\u001b[0;34m\u001b[0m\u001b[0;34m\u001b[0m\u001b[0m\n\u001b[0m\u001b[1;32m     14\u001b[0m             \u001b[0;31m# suggested_shortest_paths = shortestPath.apply(suggested_weights, 5.0) # Set the lambda hyperparameter\u001b[0m\u001b[0;34m\u001b[0m\u001b[0;34m\u001b[0m\u001b[0;34m\u001b[0m\u001b[0m\n\u001b[1;32m     15\u001b[0m             \u001b[0;31m# print(suggested_shortest_paths.shape)\u001b[0m\u001b[0;34m\u001b[0m\u001b[0;34m\u001b[0m\u001b[0;34m\u001b[0m\u001b[0m\n",
      "\u001b[0;32m/usr/lib/python3/dist-packages/torch/nn/modules/module.py\u001b[0m in \u001b[0;36m_call_impl\u001b[0;34m(self, *input, **kwargs)\u001b[0m\n\u001b[1;32m   1108\u001b[0m         if not (self._backward_hooks or self._forward_hooks or self._forward_pre_hooks or _global_backward_hooks\n\u001b[1;32m   1109\u001b[0m                 or _global_forward_hooks or _global_forward_pre_hooks):\n\u001b[0;32m-> 1110\u001b[0;31m             \u001b[0;32mreturn\u001b[0m \u001b[0mforward_call\u001b[0m\u001b[0;34m(\u001b[0m\u001b[0;34m*\u001b[0m\u001b[0minput\u001b[0m\u001b[0;34m,\u001b[0m \u001b[0;34m**\u001b[0m\u001b[0mkwargs\u001b[0m\u001b[0;34m)\u001b[0m\u001b[0;34m\u001b[0m\u001b[0;34m\u001b[0m\u001b[0m\n\u001b[0m\u001b[1;32m   1111\u001b[0m         \u001b[0;31m# Do not call functions when jit is used\u001b[0m\u001b[0;34m\u001b[0m\u001b[0;34m\u001b[0m\u001b[0;34m\u001b[0m\u001b[0m\n\u001b[1;32m   1112\u001b[0m         \u001b[0mfull_backward_hooks\u001b[0m\u001b[0;34m,\u001b[0m \u001b[0mnon_full_backward_hooks\u001b[0m \u001b[0;34m=\u001b[0m \u001b[0;34m[\u001b[0m\u001b[0;34m]\u001b[0m\u001b[0;34m,\u001b[0m \u001b[0;34m[\u001b[0m\u001b[0;34m]\u001b[0m\u001b[0;34m\u001b[0m\u001b[0;34m\u001b[0m\u001b[0m\n",
      "\u001b[0;32m<ipython-input-5-eb2508c975b3>\u001b[0m in \u001b[0;36mforward\u001b[0;34m(self, d)\u001b[0m\n\u001b[1;32m     19\u001b[0m         \u001b[0mw\u001b[0m \u001b[0;34m=\u001b[0m \u001b[0mself\u001b[0m\u001b[0;34m.\u001b[0m\u001b[0mfc_2\u001b[0m\u001b[0;34m(\u001b[0m\u001b[0mw\u001b[0m\u001b[0;34m)\u001b[0m\u001b[0;34m\u001b[0m\u001b[0;34m\u001b[0m\u001b[0m\n\u001b[1;32m     20\u001b[0m         \u001b[0msuggested_weights\u001b[0m \u001b[0;34m=\u001b[0m \u001b[0mw\u001b[0m\u001b[0;34m.\u001b[0m\u001b[0mview\u001b[0m\u001b[0;34m(\u001b[0m\u001b[0mw\u001b[0m\u001b[0;34m.\u001b[0m\u001b[0mshape\u001b[0m\u001b[0;34m[\u001b[0m\u001b[0;36m0\u001b[0m\u001b[0;34m]\u001b[0m\u001b[0;34m,\u001b[0m \u001b[0mself\u001b[0m\u001b[0;34m.\u001b[0m\u001b[0mm\u001b[0m\u001b[0;34m,\u001b[0m \u001b[0mself\u001b[0m\u001b[0;34m.\u001b[0m\u001b[0mm\u001b[0m\u001b[0;34m)\u001b[0m\u001b[0;34m\u001b[0m\u001b[0;34m\u001b[0m\u001b[0m\n\u001b[0;32m---> 21\u001b[0;31m         \u001b[0msuggested_shortest_paths\u001b[0m \u001b[0;34m=\u001b[0m \u001b[0mbb\u001b[0m\u001b[0;34m.\u001b[0m\u001b[0mShortestPath\u001b[0m\u001b[0;34m.\u001b[0m\u001b[0mapply\u001b[0m\u001b[0;34m(\u001b[0m\u001b[0msuggested_weights\u001b[0m\u001b[0;34m,\u001b[0m \u001b[0;36m5.0\u001b[0m\u001b[0;34m)\u001b[0m\u001b[0;34m\u001b[0m\u001b[0;34m\u001b[0m\u001b[0m\n\u001b[0m\u001b[1;32m     22\u001b[0m \u001b[0;34m\u001b[0m\u001b[0m\n\u001b[1;32m     23\u001b[0m         \u001b[0;32mreturn\u001b[0m \u001b[0msuggested_shortest_paths\u001b[0m\u001b[0;34m\u001b[0m\u001b[0;34m\u001b[0m\u001b[0m\n",
      "\u001b[0;32m~/Research/Implicit-Networks/src/blackbox-backprop/blackbox_backprop/shortest_path.py\u001b[0m in \u001b[0;36mforward\u001b[0;34m(ctx, weights, lambda_val)\u001b[0m\n\u001b[1;32m     86\u001b[0m         \u001b[0mctx\u001b[0m\u001b[0;34m.\u001b[0m\u001b[0mweights\u001b[0m \u001b[0;34m=\u001b[0m \u001b[0mweights\u001b[0m\u001b[0;34m.\u001b[0m\u001b[0mdetach\u001b[0m\u001b[0;34m(\u001b[0m\u001b[0;34m)\u001b[0m\u001b[0;34m.\u001b[0m\u001b[0mcpu\u001b[0m\u001b[0;34m(\u001b[0m\u001b[0;34m)\u001b[0m\u001b[0;34m.\u001b[0m\u001b[0mnumpy\u001b[0m\u001b[0;34m(\u001b[0m\u001b[0;34m)\u001b[0m\u001b[0;34m\u001b[0m\u001b[0;34m\u001b[0m\u001b[0m\n\u001b[1;32m     87\u001b[0m         \u001b[0mctx\u001b[0m\u001b[0;34m.\u001b[0m\u001b[0mlambda_val\u001b[0m \u001b[0;34m=\u001b[0m \u001b[0mlambda_val\u001b[0m\u001b[0;34m\u001b[0m\u001b[0;34m\u001b[0m\u001b[0m\n\u001b[0;32m---> 88\u001b[0;31m         \u001b[0mctx\u001b[0m\u001b[0;34m.\u001b[0m\u001b[0msuggested_tours\u001b[0m \u001b[0;34m=\u001b[0m \u001b[0mnp\u001b[0m\u001b[0;34m.\u001b[0m\u001b[0masarray\u001b[0m\u001b[0;34m(\u001b[0m\u001b[0mmaybe_parallelize\u001b[0m\u001b[0;34m(\u001b[0m\u001b[0mdijkstra\u001b[0m\u001b[0;34m,\u001b[0m \u001b[0marg_list\u001b[0m\u001b[0;34m=\u001b[0m\u001b[0mlist\u001b[0m\u001b[0;34m(\u001b[0m\u001b[0mctx\u001b[0m\u001b[0;34m.\u001b[0m\u001b[0mweights\u001b[0m\u001b[0;34m)\u001b[0m\u001b[0;34m)\u001b[0m\u001b[0;34m)\u001b[0m\u001b[0;34m\u001b[0m\u001b[0;34m\u001b[0m\u001b[0m\n\u001b[0m\u001b[1;32m     89\u001b[0m         \u001b[0;32mreturn\u001b[0m \u001b[0mtorch\u001b[0m\u001b[0;34m.\u001b[0m\u001b[0mfrom_numpy\u001b[0m\u001b[0;34m(\u001b[0m\u001b[0mctx\u001b[0m\u001b[0;34m.\u001b[0m\u001b[0msuggested_tours\u001b[0m\u001b[0;34m)\u001b[0m\u001b[0;34m.\u001b[0m\u001b[0mfloat\u001b[0m\u001b[0;34m(\u001b[0m\u001b[0;34m)\u001b[0m\u001b[0;34m.\u001b[0m\u001b[0mto\u001b[0m\u001b[0;34m(\u001b[0m\u001b[0mweights\u001b[0m\u001b[0;34m.\u001b[0m\u001b[0mdevice\u001b[0m\u001b[0;34m)\u001b[0m\u001b[0;34m\u001b[0m\u001b[0;34m\u001b[0m\u001b[0m\n\u001b[1;32m     90\u001b[0m \u001b[0;34m\u001b[0m\u001b[0m\n",
      "\u001b[0;32m~/Research/Implicit-Networks/src/blackbox-backprop/blackbox_backprop/utils.py\u001b[0m in \u001b[0;36mmaybe_parallelize\u001b[0;34m(function, arg_list)\u001b[0m\n\u001b[1;32m     17\u001b[0m         \u001b[0;32mreturn\u001b[0m \u001b[0mray\u001b[0m\u001b[0;34m.\u001b[0m\u001b[0mget\u001b[0m\u001b[0;34m(\u001b[0m\u001b[0;34m[\u001b[0m\u001b[0mray_fn\u001b[0m\u001b[0;34m.\u001b[0m\u001b[0mremote\u001b[0m\u001b[0;34m(\u001b[0m\u001b[0marg\u001b[0m\u001b[0;34m)\u001b[0m \u001b[0;32mfor\u001b[0m \u001b[0marg\u001b[0m \u001b[0;32min\u001b[0m \u001b[0marg_list\u001b[0m\u001b[0;34m]\u001b[0m\u001b[0;34m)\u001b[0m\u001b[0;34m\u001b[0m\u001b[0;34m\u001b[0m\u001b[0m\n\u001b[1;32m     18\u001b[0m     \u001b[0;32melse\u001b[0m\u001b[0;34m:\u001b[0m\u001b[0;34m\u001b[0m\u001b[0;34m\u001b[0m\u001b[0m\n\u001b[0;32m---> 19\u001b[0;31m         \u001b[0;32mreturn\u001b[0m \u001b[0;34m[\u001b[0m\u001b[0mfunction\u001b[0m\u001b[0;34m(\u001b[0m\u001b[0marg\u001b[0m\u001b[0;34m)\u001b[0m \u001b[0;32mfor\u001b[0m \u001b[0marg\u001b[0m \u001b[0;32min\u001b[0m \u001b[0marg_list\u001b[0m\u001b[0;34m]\u001b[0m\u001b[0;34m\u001b[0m\u001b[0;34m\u001b[0m\u001b[0m\n\u001b[0m",
      "\u001b[0;32m~/Research/Implicit-Networks/src/blackbox-backprop/blackbox_backprop/utils.py\u001b[0m in \u001b[0;36m<listcomp>\u001b[0;34m(.0)\u001b[0m\n\u001b[1;32m     17\u001b[0m         \u001b[0;32mreturn\u001b[0m \u001b[0mray\u001b[0m\u001b[0;34m.\u001b[0m\u001b[0mget\u001b[0m\u001b[0;34m(\u001b[0m\u001b[0;34m[\u001b[0m\u001b[0mray_fn\u001b[0m\u001b[0;34m.\u001b[0m\u001b[0mremote\u001b[0m\u001b[0;34m(\u001b[0m\u001b[0marg\u001b[0m\u001b[0;34m)\u001b[0m \u001b[0;32mfor\u001b[0m \u001b[0marg\u001b[0m \u001b[0;32min\u001b[0m \u001b[0marg_list\u001b[0m\u001b[0;34m]\u001b[0m\u001b[0;34m)\u001b[0m\u001b[0;34m\u001b[0m\u001b[0;34m\u001b[0m\u001b[0m\n\u001b[1;32m     18\u001b[0m     \u001b[0;32melse\u001b[0m\u001b[0;34m:\u001b[0m\u001b[0;34m\u001b[0m\u001b[0;34m\u001b[0m\u001b[0m\n\u001b[0;32m---> 19\u001b[0;31m         \u001b[0;32mreturn\u001b[0m \u001b[0;34m[\u001b[0m\u001b[0mfunction\u001b[0m\u001b[0;34m(\u001b[0m\u001b[0marg\u001b[0m\u001b[0;34m)\u001b[0m \u001b[0;32mfor\u001b[0m \u001b[0marg\u001b[0m \u001b[0;32min\u001b[0m \u001b[0marg_list\u001b[0m\u001b[0;34m]\u001b[0m\u001b[0;34m\u001b[0m\u001b[0;34m\u001b[0m\u001b[0m\n\u001b[0m",
      "\u001b[0;32m~/Research/Implicit-Networks/src/blackbox-backprop/blackbox_backprop/shortest_path.py\u001b[0m in \u001b[0;36mdijkstra\u001b[0;34m(matrix)\u001b[0m\n\u001b[1;32m     48\u001b[0m             \u001b[0;32mpass\u001b[0m\u001b[0;34m\u001b[0m\u001b[0;34m\u001b[0m\u001b[0m\n\u001b[1;32m     49\u001b[0m \u001b[0;34m\u001b[0m\u001b[0m\n\u001b[0;32m---> 50\u001b[0;31m         \u001b[0;32mfor\u001b[0m \u001b[0mx\u001b[0m\u001b[0;34m,\u001b[0m \u001b[0my\u001b[0m \u001b[0;32min\u001b[0m \u001b[0mneighbors_func\u001b[0m\u001b[0;34m(\u001b[0m\u001b[0mcur_x\u001b[0m\u001b[0;34m,\u001b[0m \u001b[0mcur_y\u001b[0m\u001b[0;34m)\u001b[0m\u001b[0;34m:\u001b[0m\u001b[0;34m\u001b[0m\u001b[0;34m\u001b[0m\u001b[0m\n\u001b[0m\u001b[1;32m     51\u001b[0m             \u001b[0;32mif\u001b[0m \u001b[0;34m(\u001b[0m\u001b[0mx\u001b[0m\u001b[0;34m,\u001b[0m \u001b[0my\u001b[0m\u001b[0;34m)\u001b[0m \u001b[0;32mnot\u001b[0m \u001b[0;32min\u001b[0m \u001b[0mcertain\u001b[0m\u001b[0;34m:\u001b[0m\u001b[0;34m\u001b[0m\u001b[0;34m\u001b[0m\u001b[0m\n\u001b[1;32m     52\u001b[0m                 \u001b[0;32mif\u001b[0m \u001b[0mmatrix\u001b[0m\u001b[0;34m[\u001b[0m\u001b[0mx\u001b[0m\u001b[0;34m]\u001b[0m\u001b[0;34m[\u001b[0m\u001b[0my\u001b[0m\u001b[0;34m]\u001b[0m \u001b[0;34m+\u001b[0m \u001b[0mcosts\u001b[0m\u001b[0;34m[\u001b[0m\u001b[0mcur_x\u001b[0m\u001b[0;34m]\u001b[0m\u001b[0;34m[\u001b[0m\u001b[0mcur_y\u001b[0m\u001b[0;34m]\u001b[0m \u001b[0;34m<\u001b[0m \u001b[0mcosts\u001b[0m\u001b[0;34m[\u001b[0m\u001b[0mx\u001b[0m\u001b[0;34m]\u001b[0m\u001b[0;34m[\u001b[0m\u001b[0my\u001b[0m\u001b[0;34m]\u001b[0m\u001b[0;34m:\u001b[0m\u001b[0;34m\u001b[0m\u001b[0;34m\u001b[0m\u001b[0m\n",
      "\u001b[0;32m~/Research/Implicit-Networks/src/blackbox-backprop/blackbox_backprop/shortest_path.py\u001b[0m in \u001b[0;36mneighbours_fn\u001b[0;34m(x, y, x_max, y_max)\u001b[0m\n\u001b[1;32m     17\u001b[0m     \u001b[0;32mfor\u001b[0m \u001b[0;34m(\u001b[0m\u001b[0mdx\u001b[0m\u001b[0;34m,\u001b[0m \u001b[0mdy\u001b[0m\u001b[0;34m)\u001b[0m \u001b[0;32min\u001b[0m \u001b[0mitertools\u001b[0m\u001b[0;34m.\u001b[0m\u001b[0mproduct\u001b[0m\u001b[0;34m(\u001b[0m\u001b[0mdeltas_x\u001b[0m\u001b[0;34m,\u001b[0m \u001b[0mdeltas_y\u001b[0m\u001b[0;34m)\u001b[0m\u001b[0;34m:\u001b[0m\u001b[0;34m\u001b[0m\u001b[0;34m\u001b[0m\u001b[0m\n\u001b[1;32m     18\u001b[0m         \u001b[0mx_new\u001b[0m\u001b[0;34m,\u001b[0m \u001b[0my_new\u001b[0m \u001b[0;34m=\u001b[0m \u001b[0mx\u001b[0m \u001b[0;34m+\u001b[0m \u001b[0mdx\u001b[0m\u001b[0;34m,\u001b[0m \u001b[0my\u001b[0m \u001b[0;34m+\u001b[0m \u001b[0mdy\u001b[0m\u001b[0;34m\u001b[0m\u001b[0;34m\u001b[0m\u001b[0m\n\u001b[0;32m---> 19\u001b[0;31m         \u001b[0msize\u001b[0m \u001b[0;34m=\u001b[0m \u001b[0mnp\u001b[0m\u001b[0;34m.\u001b[0m\u001b[0mabs\u001b[0m\u001b[0;34m(\u001b[0m\u001b[0mdx\u001b[0m\u001b[0;34m)\u001b[0m \u001b[0;34m+\u001b[0m \u001b[0mnp\u001b[0m\u001b[0;34m.\u001b[0m\u001b[0mabs\u001b[0m\u001b[0;34m(\u001b[0m\u001b[0mdy\u001b[0m\u001b[0;34m)\u001b[0m\u001b[0;34m\u001b[0m\u001b[0;34m\u001b[0m\u001b[0m\n\u001b[0m\u001b[1;32m     20\u001b[0m         \u001b[0;32mif\u001b[0m \u001b[0;36m0\u001b[0m \u001b[0;34m<=\u001b[0m \u001b[0mx_new\u001b[0m \u001b[0;34m<\u001b[0m \u001b[0mx_max\u001b[0m \u001b[0;32mand\u001b[0m \u001b[0;36m0\u001b[0m \u001b[0;34m<=\u001b[0m \u001b[0my_new\u001b[0m \u001b[0;34m<\u001b[0m \u001b[0my_max\u001b[0m \u001b[0;32mand\u001b[0m \u001b[0msize\u001b[0m \u001b[0;34m==\u001b[0m \u001b[0;36m1\u001b[0m\u001b[0;34m:\u001b[0m \u001b[0;31m# restriction on size means we eliminate diagonal neighbors\u001b[0m\u001b[0;34m\u001b[0m\u001b[0;34m\u001b[0m\u001b[0m\n\u001b[1;32m     21\u001b[0m             \u001b[0;32myield\u001b[0m \u001b[0mx_new\u001b[0m\u001b[0;34m,\u001b[0m \u001b[0my_new\u001b[0m\u001b[0;34m\u001b[0m\u001b[0;34m\u001b[0m\u001b[0m\n",
      "\u001b[0;31mKeyboardInterrupt\u001b[0m: "
     ]
    }
   ],
   "source": [
    "## Train!\n",
    "max_epochs = 100\n",
    "device = 'cuda:0'\n",
    "net.to(device)\n",
    "hammingLoss = HammingLoss()\n",
    "\n",
    "for epoch in range(max_epochs):\n",
    "    net.train()\n",
    "    for d_batch, path_batch in train_loader:\n",
    "            d_batch = d_batch.to(device)\n",
    "            path_batch =path_batch.to(device)\n",
    "            optimizer.zero_grad()\n",
    "            suggested_shortest_paths = net(d_batch)\n",
    "            # suggested_shortest_paths = shortestPath.apply(suggested_weights, 5.0) # Set the lambda hyperparameter\n",
    "            # print(suggested_shortest_paths.shape)\n",
    "            # loss = hammingLoss(suggested_shortest_paths, path_batch)\n",
    "            loss = criterion(suggested_shortest_paths, path_batch)\n",
    "            train_loss_ave = loss.item()\n",
    "            loss.backward()\n",
    "            optimizer.step()\n",
    "    net.eval()\n",
    "    for d_batch, path_batch in test_loader:\n",
    "        d_batch = d_batch.to(device)\n",
    "        path_batch =path_batch.to(device)\n",
    "        optimizer.zero_grad()\n",
    "        suggested_shortest_paths = net(d_batch)\n",
    "        loss = criterion(suggested_shortest_paths, path_batch)\n",
    "        test_loss = loss.item()\n",
    "        scheduler.step(test_loss)\n",
    "        print('epoch:', epoch, ', test_loss = ', test_loss)"
   ]
  },
  {
   "cell_type": "code",
   "execution_count": null,
   "metadata": {},
   "outputs": [],
   "source": [
    "d_batch, path_batch = next(iter(test_loader))\n",
    "d_batch = d_batch.to(device)\n",
    "path_batch = path_batch.to(device)\n",
    "pred_batch = BB_net(d_batch)"
   ]
  },
  {
   "cell_type": "code",
   "execution_count": null,
   "metadata": {},
   "outputs": [],
   "source": [
    "import matplotlib.pyplot as plt\n",
    "WW = WW.to(device)\n",
    "sp = bb.ShortestPath()\n",
    "\n",
    "for i in range(10):\n",
    "    fig, (ax1, ax2) = plt.subplots(1, 2)\n",
    "    ax1.matshow(pred_batch[i,:,:].cpu().detach().numpy())\n",
    "    ax2.matshow(path_batch[i,:,:].cpu().detach().numpy())\n",
    "    #plt.matshow(pred_batch[i,:,:].cpu().detach().numpy())\n",
    "    #plt.show()\n",
    "    #plt.matshow(path_batch[i,:,:].cpu().detach().numpy())\n",
    "    #plt.show()\n",
    "    #weights = torch.matmul(WW, d_batch[i]).view((1, 5, 5))\n",
    "    # print(weights)\n",
    "    #pred_sp = sp.apply(weights,20)\n",
    "    #plt.matshow(pred_sp[0,:,:].cpu().detach().numpy())\n",
    "    #plt.show()\n",
    "    "
   ]
  },
  {
   "cell_type": "code",
   "execution_count": null,
   "metadata": {},
   "outputs": [],
   "source": [
    "WW.device"
   ]
  },
  {
   "cell_type": "code",
   "execution_count": null,
   "metadata": {},
   "outputs": [],
   "source": []
  }
 ],
 "metadata": {
  "kernelspec": {
   "display_name": "Python 3",
   "language": "python",
   "name": "python3"
  },
  "language_info": {
   "codemirror_mode": {
    "name": "ipython",
    "version": 3
   },
   "file_extension": ".py",
   "mimetype": "text/x-python",
   "name": "python",
   "nbconvert_exporter": "python",
   "pygments_lexer": "ipython3",
   "version": "3.8.10"
  }
 },
 "nbformat": 4,
 "nbformat_minor": 4
}
